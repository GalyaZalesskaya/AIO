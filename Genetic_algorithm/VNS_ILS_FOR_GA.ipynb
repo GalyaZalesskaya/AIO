{
 "cells": [
  {
   "cell_type": "code",
   "execution_count": 1,
   "metadata": {},
   "outputs": [],
   "source": [
    "import copy\n",
    "from random import shuffle,randint"
   ]
  },
  {
   "cell_type": "code",
   "execution_count": 2,
   "metadata": {},
   "outputs": [],
   "source": [
    "file_name = '20x20.txt'"
   ]
  },
  {
   "cell_type": "code",
   "execution_count": 3,
   "metadata": {},
   "outputs": [],
   "source": [
    "data, N1,N,M = 0, 0, 0,0\n",
    "def read_file(file_name):\n",
    "    global N\n",
    "    global M \n",
    "    global data\n",
    "    global N1\n",
    "    file = open(file_name,'r')\n",
    "    N, M = list(map(int,file.readline().split()))\n",
    "    data = []\n",
    "    N1 = 0\n",
    "    for i in range(N):\n",
    "        string = [0] * M\n",
    "        vehicle = list(map(int,file.readline().split()))\n",
    "        for s in vehicle[1:]:\n",
    "            string[int(s)-1] = 1\n",
    "            N1+=1\n",
    "        data.append(string)"
   ]
  },
  {
   "cell_type": "code",
   "execution_count": 4,
   "metadata": {},
   "outputs": [],
   "source": [
    "class Cluster(object):\n",
    "    def __init__(self, vehicles=[], details=[]):\n",
    "        self._vehicles: list = vehicles\n",
    "        self._details: list = details\n",
    "        result = self.get_matrix()\n",
    "        self.N1_in: int = result[1]\n",
    "        self.N0_in: int = result[2]\n",
    "        self.matrix = result[0]\n",
    "    def __repr__(self):\n",
    "        s=\"\"\n",
    "        for m in self.matrix:\n",
    "            s+= str(m).replace(\",\",\" \")[1:-1] +'\\n'\n",
    "        return f\"\\nCustomer {self._vehicles, self._details, self.N1_in, self.N0_in} \\n{s[:-1]}\"\n",
    "    \n",
    "    def get_matrix(self):\n",
    "        mat = []\n",
    "        for v in self._vehicles:\n",
    "            line = []\n",
    "            for d in self._details:\n",
    "                line.append(data[v][d])\n",
    "            mat.append(line)\n",
    "            N1_in = sum([sum(m) for m in mat])\n",
    "            N0_in = len(self._vehicles)*len(self._details) - N1_in\n",
    "        return mat, N1_in, N0_in\n",
    "    \n",
    "    def delete_vehicle(self,number):\n",
    "        i = self._vehicles.index(number)\n",
    "        n1 = sum(self.matrix[i][:])\n",
    "        n0 = len(self._details) - n1\n",
    "        self.N1_in -= n1\n",
    "        self.N0_in -= n0\n",
    "        self.matrix = self.matrix[:i] + self.matrix[i+1:] \n",
    "        self._vehicles.pop(i)\n",
    "    \n",
    "    def add_vehicle(self,number):\n",
    "        line = []\n",
    "        for d in self._details:\n",
    "            line.append(data[number][d])\n",
    "        n1 = sum(line)\n",
    "        n0 = len(self._details) - n1\n",
    "        self.N1_in += n1\n",
    "        self.N0_in += n0\n",
    "        self.matrix.append(line)\n",
    "        self._vehicles.append(number)\n",
    "        \n",
    "    def delete_detail(self,number):\n",
    "        i = self._details.index(number)\n",
    "        n1 = sum(r[i] for r in self.matrix)\n",
    "        n0 = len(self._vehicles) - n1\n",
    "        self.N1_in -= n1\n",
    "        self.N0_in -= n0\n",
    "        [r.pop(i) for r in self.matrix]\n",
    "        self._details.pop(i)\n",
    "    \n",
    "    def add_detail(self,number):\n",
    "        line = []\n",
    "        for v in self._vehicles:\n",
    "            line.append(data[v][number])\n",
    "        n1 = sum(line)\n",
    "        n0 = len(self._vehicles) - n1\n",
    "        self.N1_in += n1\n",
    "        self.N0_in += n0\n",
    "        [r.append(line.pop(0)) for r in self.matrix]\n",
    "        self._details.append(number)"
   ]
  },
  {
   "cell_type": "code",
   "execution_count": 5,
   "metadata": {},
   "outputs": [],
   "source": [
    "def initial_solution(k=2): \n",
    "    best_sum = 0\n",
    "    K = min(N,M) // k \n",
    "    for _ in range(20):\n",
    "        shuffled_vehicle = list(range(N))\n",
    "        shuffled_details = list(range(M))\n",
    "        shuffle(shuffled_vehicle)\n",
    "        shuffle(shuffled_details)\n",
    "        solution = []\n",
    "        for _ in range(K):\n",
    "            veh, det, i = [], [], 0\n",
    "            while (i< N//K) and (len(shuffled_vehicle)>1):\n",
    "                veh.append(shuffled_vehicle.pop(0))\n",
    "                i+=1\n",
    "            i=0\n",
    "            while (i< M//K) and (len(shuffled_details)>1):\n",
    "                det.append(shuffled_details.pop(0))\n",
    "                i+=1\n",
    "            if (len(veh)>0) and (len(det)>0):\n",
    "                solution.append(Cluster(veh, det))\n",
    "        solution.append(Cluster(shuffled_vehicle, shuffled_details))\n",
    "        cur_sum = object_function(solution)\n",
    "        if (cur_sum > best_sum):\n",
    "            best_solution = solution\n",
    "            best_sum = cur_sum\n",
    "    return best_solution"
   ]
  },
  {
   "cell_type": "code",
   "execution_count": 99,
   "metadata": {},
   "outputs": [
    {
     "ename": "ZeroDivisionError",
     "evalue": "integer division or modulo by zero",
     "output_type": "error",
     "traceback": [
      "\u001b[0;31m---------------------------------------------------------------------------\u001b[0m",
      "\u001b[0;31mZeroDivisionError\u001b[0m                         Traceback (most recent call last)",
      "\u001b[0;32m<ipython-input-99-8bf9d1b3ac48>\u001b[0m in \u001b[0;36m<module>\u001b[0;34m()\u001b[0m\n\u001b[0;32m----> 1\u001b[0;31m \u001b[0minitial_solution\u001b[0m\u001b[0;34m(\u001b[0m\u001b[0;36m0\u001b[0m\u001b[0;34m)\u001b[0m\u001b[0;34m\u001b[0m\u001b[0;34m\u001b[0m\u001b[0m\n\u001b[0m",
      "\u001b[0;32m<ipython-input-78-b800d3a23a06>\u001b[0m in \u001b[0;36minitial_solution\u001b[0;34m(k)\u001b[0m\n\u001b[1;32m      1\u001b[0m \u001b[0;32mdef\u001b[0m \u001b[0minitial_solution\u001b[0m\u001b[0;34m(\u001b[0m\u001b[0mk\u001b[0m\u001b[0;34m)\u001b[0m\u001b[0;34m:\u001b[0m\u001b[0;34m\u001b[0m\u001b[0;34m\u001b[0m\u001b[0m\n\u001b[1;32m      2\u001b[0m     \u001b[0mbest_sum\u001b[0m \u001b[0;34m=\u001b[0m \u001b[0;36m0\u001b[0m\u001b[0;34m\u001b[0m\u001b[0;34m\u001b[0m\u001b[0m\n\u001b[0;32m----> 3\u001b[0;31m     \u001b[0mK\u001b[0m \u001b[0;34m=\u001b[0m \u001b[0mmin\u001b[0m\u001b[0;34m(\u001b[0m\u001b[0mN\u001b[0m\u001b[0;34m,\u001b[0m\u001b[0mM\u001b[0m\u001b[0;34m)\u001b[0m \u001b[0;34m//\u001b[0m \u001b[0mk\u001b[0m\u001b[0;34m\u001b[0m\u001b[0;34m\u001b[0m\u001b[0m\n\u001b[0m\u001b[1;32m      4\u001b[0m     \u001b[0;32mfor\u001b[0m \u001b[0m_\u001b[0m \u001b[0;32min\u001b[0m \u001b[0mrange\u001b[0m\u001b[0;34m(\u001b[0m\u001b[0;36m20\u001b[0m\u001b[0;34m)\u001b[0m\u001b[0;34m:\u001b[0m\u001b[0;34m\u001b[0m\u001b[0;34m\u001b[0m\u001b[0m\n\u001b[1;32m      5\u001b[0m         \u001b[0mshuffled_vehicle\u001b[0m \u001b[0;34m=\u001b[0m \u001b[0mlist\u001b[0m\u001b[0;34m(\u001b[0m\u001b[0mrange\u001b[0m\u001b[0;34m(\u001b[0m\u001b[0mN\u001b[0m\u001b[0;34m)\u001b[0m\u001b[0;34m)\u001b[0m\u001b[0;34m\u001b[0m\u001b[0;34m\u001b[0m\u001b[0m\n",
      "\u001b[0;31mZeroDivisionError\u001b[0m: integer division or modulo by zero"
     ]
    }
   ],
   "source": [
    "initial_solution(0)"
   ]
  },
  {
   "cell_type": "code",
   "execution_count": 6,
   "metadata": {},
   "outputs": [],
   "source": [
    "def is_feasible(solution): #проверка на то, что решение существует\n",
    "    res = get_output(solution)\n",
    "    veh = set(res[0])\n",
    "    det = set(res[1])\n",
    "    if (len(veh - det)==0) and (len(det - veh)==0):\n",
    "        return True\n",
    "    else:\n",
    "        return veh, det"
   ]
  },
  {
   "cell_type": "code",
   "execution_count": 7,
   "metadata": {},
   "outputs": [],
   "source": [
    "def object_function(solution):\n",
    "    n1 = sum(c.N1_in for c in solution)\n",
    "    n0 = sum(c.N0_in for c in solution)\n",
    "    return n1 / (N1 + n0)"
   ]
  },
  {
   "cell_type": "code",
   "execution_count": 8,
   "metadata": {},
   "outputs": [],
   "source": [
    "def get_output(solution, k=0): #преобразование решения в итоговый вариант\n",
    "    vehicle = ['_'] * N\n",
    "    details = ['_'] * M\n",
    "    for i in range(len(solution)):\n",
    "        for v in solution[i]._vehicles:\n",
    "            vehicle[v] = i+k\n",
    "        for d in solution[i]._details:\n",
    "            details[d] = i+k\n",
    "    return vehicle, details"
   ]
  },
  {
   "cell_type": "code",
   "execution_count": 9,
   "metadata": {},
   "outputs": [
    {
     "ename": "NameError",
     "evalue": "name 'solution' is not defined",
     "output_type": "error",
     "traceback": [
      "\u001b[0;31m---------------------------------------------------------------------------\u001b[0m",
      "\u001b[0;31mNameError\u001b[0m                                 Traceback (most recent call last)",
      "\u001b[0;32m<ipython-input-9-1928df9728b4>\u001b[0m in \u001b[0;36m<module>\u001b[0;34m()\u001b[0m\n\u001b[0;32m----> 1\u001b[0;31m \u001b[0mget_output\u001b[0m\u001b[0;34m(\u001b[0m\u001b[0msolution\u001b[0m\u001b[0;34m,\u001b[0m\u001b[0;36m1\u001b[0m\u001b[0;34m)\u001b[0m\u001b[0;34m\u001b[0m\u001b[0;34m\u001b[0m\u001b[0m\n\u001b[0m",
      "\u001b[0;31mNameError\u001b[0m: name 'solution' is not defined"
     ]
    }
   ],
   "source": [
    "get_output(solution,1)"
   ]
  },
  {
   "cell_type": "code",
   "execution_count": 9,
   "metadata": {},
   "outputs": [],
   "source": [
    "def exchange_vehicle(solution): \n",
    "    #функция для LS, позволяющая переместить строку в другой класс (перебирает все строки всех классов)\n",
    "    best_sum = object_function(solution)\n",
    "    best_sol = copy.deepcopy(solution)\n",
    "    for cluster in solution:\n",
    "        first_cluster = copy.deepcopy(cluster)\n",
    "        if len(cluster._vehicles)>1:\n",
    "            for vehicle in cluster._vehicles:\n",
    "                for c in solution:\n",
    "                    if (c._vehicles == cluster._vehicles) :\n",
    "                        continue\n",
    "                    second_cluster = copy.deepcopy(c)\n",
    "                    c.add_vehicle(vehicle)\n",
    "                    cluster.delete_vehicle(vehicle)\n",
    "                    cur_sum = object_function(solution)\n",
    "                    if (cur_sum > best_sum):\n",
    "                        best_sol = copy.deepcopy(solution)\n",
    "                        best_sum = copy.deepcopy(cur_sum)\n",
    "                    cluster.add_vehicle(vehicle)\n",
    "                    c.delete_vehicle(vehicle) \n",
    "    solution = (best_sol)\n",
    "    return copy.deepcopy(solution), best_sum"
   ]
  },
  {
   "cell_type": "code",
   "execution_count": 10,
   "metadata": {},
   "outputs": [],
   "source": [
    "def exchange_detail(solution):\n",
    "    #функция для LS, позволяющая переместить столбец в другой класс (перебирает все строки всех классов)\n",
    "    best_sum = object_function(solution)\n",
    "    best_sol = copy.deepcopy(solution)\n",
    "    for cluster in solution:\n",
    "        first_cluster = copy.deepcopy(cluster)\n",
    "        if len(cluster._details)>1:\n",
    "            for detail in cluster._details:\n",
    "                for c in solution:\n",
    "                    if (c._vehicles == cluster._vehicles) :\n",
    "                        continue\n",
    "                    second_cluster = copy.deepcopy(c)\n",
    "                    c.add_detail(detail)\n",
    "                    cluster.delete_detail(detail)\n",
    "                    cur_sum = object_function(solution)\n",
    "                    if (cur_sum > best_sum):\n",
    "                        best_sol = copy.deepcopy(solution)\n",
    "                        best_sum = copy.deepcopy(cur_sum)\n",
    "                    cluster.add_detail(detail)\n",
    "                    c.delete_detail(detail) \n",
    "    solution = (best_sol)\n",
    "    return copy.deepcopy(solution), best_sum"
   ]
  },
  {
   "cell_type": "code",
   "execution_count": 11,
   "metadata": {},
   "outputs": [],
   "source": [
    "def local_search(solution, vnd):#local search, улучшающий решение\n",
    "    if vnd == 0:\n",
    "        vnd = [exchange_vehicle, exchange_detail]\n",
    "    else:\n",
    "        vnd = [exchange_detail, exchange_vehicle]\n",
    "    best_sum = object_function(solution)\n",
    "#     print(\"INITIAL \", best_sum)\n",
    "    old_sum = 0\n",
    "    step = 0\n",
    "    while(True):\n",
    "        while best_sum - old_sum > 0.0001 :\n",
    "            old_sum = copy.deepcopy(best_sum)\n",
    "            step += 1\n",
    "            solution, best_sum = vnd[0](solution)\n",
    "        old_sum = copy.deepcopy(best_sum)\n",
    "        solution, best_sum = vnd[1](solution)\n",
    "        if best_sum - old_sum > 0.0001 :\n",
    "            continue\n",
    "        else:\n",
    "#             print(\"END AT :{}\".format(best_sum))\n",
    "            break\n",
    "    return copy.deepcopy(solution), best_sum    "
   ]
  },
  {
   "cell_type": "code",
   "execution_count": 12,
   "metadata": {},
   "outputs": [],
   "source": [
    "def merge_clusters(cl1,cl2):\n",
    "    return Cluster(cl1._vehicles + cl2._vehicles, cl1._details + cl2._details)"
   ]
  },
  {
   "cell_type": "code",
   "execution_count": 13,
   "metadata": {},
   "outputs": [],
   "source": [
    "def split_cluster(cl):\n",
    "    #предполагаем, что кластер разбивается на два равных по длине кластера\n",
    "    shuffle(cl._vehicles)\n",
    "    shuffle(cl._details)\n",
    "    veh_len = len(cl._vehicles) // 2\n",
    "    det_len = len(cl._details) // 2\n",
    "    c1 = Cluster(cl._vehicles[:veh_len], cl._details[:det_len])\n",
    "    c2 = Cluster(cl._vehicles[veh_len:], cl._details[det_len:])\n",
    "    return c1,c2"
   ]
  },
  {
   "cell_type": "code",
   "execution_count": 14,
   "metadata": {},
   "outputs": [],
   "source": [
    "def nice_view(sol,name): #функция для записи ответа в файл\n",
    "    file = open(name, 'w+')\n",
    "    res = get_output(sol)\n",
    "    file.write(str(res[0])[1:-1].replace(', ', ' ') + \"\\n\")\n",
    "    file.write(str(res[1])[1:-1].replace(', ', ' ') + \"\\n\")\n",
    "    print(res[0])\n",
    "    print(res[1])\n",
    "    file.close()\n",
    "    total_file = open('VNS_total.txt', 'a+')\n",
    "    total_file.write(name[:-4] + ' ' + str(object_function(solution))+ \"\\n\")\n",
    "    print(name[:-4] + ' ' + str(sum([s.object_function() for s in sol]))+ \"\\n\")\n",
    "    total_file.close()"
   ]
  },
  {
   "cell_type": "code",
   "execution_count": 15,
   "metadata": {},
   "outputs": [],
   "source": [
    "def merge1(solution, n_shaking_merge):\n",
    "    if n_shaking_merge == 0:\n",
    "        return solution\n",
    "    best_sol = []\n",
    "    best_sum = -1\n",
    "    for _ in range(n_shaking_merge):\n",
    "        temp_sol = copy.deepcopy(solution)\n",
    "        if len(solution)>1: #слить 2 кластера можно только если их как минимум 2 в решении\n",
    "            i = randint(0, len(solution)-2)\n",
    "            j = randint(i+1, len(solution)-1)\n",
    "            cl = merge_clusters(temp_sol.pop(i), temp_sol.pop(j-1))\n",
    "            temp_sol.append(cl)\n",
    "            if object_function(temp_sol) > best_sum:\n",
    "                best_sol = copy.deepcopy(temp_sol)\n",
    "                best_sum = object_function(temp_sol)\n",
    "    return best_sol"
   ]
  },
  {
   "cell_type": "code",
   "execution_count": 16,
   "metadata": {},
   "outputs": [],
   "source": [
    "def merge(solution):\n",
    "    if len(solution)>1: #слить 2 кластера можно только если их как минимум 2 в решении\n",
    "        i = randint(0, len(solution)-2)\n",
    "        j = randint(i+1, len(solution)-1)\n",
    "        cl = merge_clusters(solution.pop(i), solution.pop(j-1))\n",
    "        solution.append(cl)\n",
    "    return solution"
   ]
  },
  {
   "cell_type": "code",
   "execution_count": 17,
   "metadata": {},
   "outputs": [],
   "source": [
    "def split(solution):\n",
    "    i = randint(0, len(solution)-1)\n",
    "    k = 0\n",
    "    while (len(solution[i]._vehicles)<2 or len(solution[i]._details)<2): \n",
    "        #разбить кластер можно только если в нем больше 2 строк и 2 столбцов\n",
    "        i = randint(0, len(solution)-1)\n",
    "        k +=1\n",
    "        if k > len(solution):\n",
    "            break\n",
    "    else:\n",
    "        cls = split_cluster(solution.pop(i))\n",
    "        solution += cls\n",
    "    return solution"
   ]
  },
  {
   "cell_type": "code",
   "execution_count": 18,
   "metadata": {},
   "outputs": [],
   "source": [
    "def split1(solution, n_shaking_split):\n",
    "    if n_shaking_split == 0:\n",
    "        return solution\n",
    "    best_sol = []\n",
    "    best_sum = -1\n",
    "    for _ in range(n_shaking_split):\n",
    "        temp_sol = copy.deepcopy(solution)\n",
    "        i = randint(0, len(solution)-1)\n",
    "        k = 0\n",
    "        while (len(solution[i]._vehicles)<2 or len(solution[i]._details)<2): \n",
    "            #разбить кластер можно только если в нем больше 2 строк и 2 столбцов\n",
    "            i = randint(0, len(solution)-1)\n",
    "            k +=1\n",
    "            if k > len(solution):\n",
    "                break\n",
    "        else:\n",
    "            cls = split_cluster(temp_sol.pop(i))\n",
    "            temp_sol += cls\n",
    "            if object_function(temp_sol) > best_sum:\n",
    "                best_sol = copy.deepcopy(temp_sol)\n",
    "                best_sum = object_function(temp_sol)\n",
    "    return best_sol"
   ]
  },
  {
   "cell_type": "code",
   "execution_count": 38,
   "metadata": {},
   "outputs": [],
   "source": [
    "#MAIN FUNCTION\n",
    "#вся магия здесь\n",
    "def main(elem_in_cluster, repeat, vnd, shaking, n_shaking, n_best_sh):\n",
    "    read_file(file_name)\n",
    "    if shaking == 0:\n",
    "        shaking = [merge1, split1, n_best_sh]\n",
    "    else:\n",
    "        shaking = [split1, merge1, n_best_sh]\n",
    "    BS = 0\n",
    "    BSOL = []\n",
    "    for _ in range(repeat):\n",
    "        solution = initial_solution(elem_in_cluster)\n",
    "        solution, best_sum = copy.deepcopy(local_search(solution, vnd))  \n",
    "        best_sol = copy.deepcopy(solution)\n",
    "        for sh_oper in range(2):\n",
    "            shaking_counter = 0\n",
    "            while shaking_counter < n_shaking:\n",
    "                solution = copy.deepcopy(best_sol)\n",
    "                solution = copy.deepcopy(shaking[sh_oper](solution, shaking[-1]))\n",
    "                solution, cur_sum = copy.deepcopy(local_search(solution, vnd))  \n",
    "                if cur_sum > best_sum:\n",
    "#                     print(\"Improved in \", shaking[sh_oper].__name__, \" to \", cur_sum, ' at ', shaking_counter)\n",
    "                    shaking_counter = 0\n",
    "                    best_sum = copy.deepcopy(cur_sum)\n",
    "                    best_sol = copy.deepcopy(solution)\n",
    "                else:\n",
    "                    shaking_counter += 1\n",
    "        print(best_sum)           \n",
    "        if best_sum > BS:\n",
    "            BS = best_sum\n",
    "            BSOL = best_sol\n",
    "    return BSOL, BS"
   ]
  },
  {
   "cell_type": "code",
   "execution_count": 40,
   "metadata": {},
   "outputs": [
    {
     "name": "stdout",
     "output_type": "stream",
     "text": [
      "0.42028985507246375\n",
      "0.41353383458646614\n",
      "0.40625\n",
      "0.4305555555555556\n",
      "0.4195804195804196\n",
      "0.39263803680981596\n",
      "0.4126984126984127\n",
      "0.40816326530612246\n",
      "0.40601503759398494\n",
      "0.39072847682119205\n"
     ]
    },
    {
     "data": {
      "text/plain": [
       "([\n",
       "  Customer ([3, 6, 17, 8, 5, 0], [8, 6, 0, 5, 15], 19, 11) \n",
       "  1  0  0  1  0\n",
       "  1  1  1  1  1\n",
       "  0  1  1  0  1\n",
       "  1  0  0  1  1\n",
       "  0  1  0  1  0\n",
       "  1  0  1  1  1, \n",
       "  Customer ([10, 2, 9, 11, 7, 13, 16], [3, 14, 13, 17, 18, 12, 10], 30, 19) \n",
       "  1  1  1  1  1  1  0\n",
       "  1  0  1  1  0  1  1\n",
       "  0  1  0  0  1  1  1\n",
       "  1  0  1  1  0  0  1\n",
       "  1  1  1  1  0  0  0\n",
       "  0  0  1  1  1  1  0\n",
       "  1  1  1  0  0  0  0, \n",
       "  Customer ([18], [11], 0, 1) \n",
       "  0, \n",
       "  Customer ([12, 1], [16, 1, 9, 19], 7, 1) \n",
       "  1  1  1  0\n",
       "  1  1  1  1, \n",
       "  Customer ([15], [4], 1, 0) \n",
       "  1, \n",
       "  Customer ([14, 19, 4], [2, 7], 5, 1) \n",
       "  1  1\n",
       "  1  1\n",
       "  1  0], 0.4305555555555556)"
      ]
     },
     "execution_count": 40,
     "metadata": {},
     "output_type": "execute_result"
    }
   ],
   "source": [
    "main(5, 10, 0,0, 10, 3)"
   ]
  },
  {
   "cell_type": "code",
   "execution_count": 37,
   "metadata": {},
   "outputs": [
    {
     "name": "stdout",
     "output_type": "stream",
     "text": [
      "0.3247863247863248\n",
      "0.3247863247863248\n",
      "0.3247863247863248\n",
      "0.3247863247863248\n"
     ]
    }
   ],
   "source": [
    "solution = initial_solution(2)\n",
    "solution, cur_sum = copy.deepcopy(local_search(solution,0))  \n",
    "print( cur_sum)\n",
    "solution, cur_sum = copy.deepcopy(local_search(solution, 0))  \n",
    "print(cur_sum)\n",
    "solution, cur_sum = copy.deepcopy(local_search(solution, 0))  \n",
    "print(cur_sum)\n",
    "solution, cur_sum = copy.deepcopy(local_search(solution, 0))  \n",
    "print(cur_sum)\n",
    "# res = main(5, 30, 0,0, 3,3)\n"
   ]
  },
  {
   "cell_type": "code",
   "execution_count": 97,
   "metadata": {},
   "outputs": [
    {
     "data": {
      "text/plain": [
       "True"
      ]
     },
     "execution_count": 97,
     "metadata": {},
     "output_type": "execute_result"
    }
   ],
   "source": [
    "is_feasible(res[0])"
   ]
  },
  {
   "cell_type": "code",
   "execution_count": 40,
   "metadata": {},
   "outputs": [],
   "source": [
    "best_sol\n",
    "s = 0\n",
    "for c in best_sol:\n",
    "    matrix = c.get_matrix()[0]\n",
    "    n1 = sum([sum(m) for m in c.matrix])\n",
    "    n0 = len(c.matrix) * len(c.matrix[0]) - n1\n",
    "    s+= n1/(N1+n0)"
   ]
  },
  {
   "cell_type": "code",
   "execution_count": 41,
   "metadata": {},
   "outputs": [
    {
     "data": {
      "text/plain": [
       "0.49962013069407435"
      ]
     },
     "execution_count": 41,
     "metadata": {},
     "output_type": "execute_result"
    }
   ],
   "source": [
    "s"
   ]
  },
  {
   "cell_type": "code",
   "execution_count": 45,
   "metadata": {},
   "outputs": [],
   "source": [
    "a = sum([sum(m) for m in data])"
   ]
  },
  {
   "cell_type": "code",
   "execution_count": 46,
   "metadata": {},
   "outputs": [
    {
     "data": {
      "text/plain": [
       "(111, 111)"
      ]
     },
     "execution_count": 46,
     "metadata": {},
     "output_type": "execute_result"
    }
   ],
   "source": [
    "a, N1"
   ]
  },
  {
   "cell_type": "code",
   "execution_count": 80,
   "metadata": {},
   "outputs": [],
   "source": [
    "best_sol\n",
    "s = 0\n",
    "n1 = 0\n",
    "n0 = 0\n",
    "for c in best_sol:\n",
    "    veh = c._vehicles\n",
    "    det = c._details\n",
    "    rn1 = sum([sum([data[v][d] for d in det]) for v in veh])\n",
    "    rn0 = len(veh) * len(det) - rn1\n",
    "    n1+=rn1\n",
    "    n0+=rn0\n",
    "s+= n1/(N1+n0)"
   ]
  },
  {
   "cell_type": "code",
   "execution_count": 81,
   "metadata": {},
   "outputs": [
    {
     "data": {
      "text/plain": [
       "0.38961038961038963"
      ]
     },
     "execution_count": 81,
     "metadata": {},
     "output_type": "execute_result"
    }
   ],
   "source": [
    "s"
   ]
  },
  {
   "cell_type": "code",
   "execution_count": 52,
   "metadata": {},
   "outputs": [
    {
     "data": {
      "text/plain": [
       "(31, 32)"
      ]
     },
     "execution_count": 52,
     "metadata": {},
     "output_type": "execute_result"
    }
   ],
   "source": [
    "c = best_sol[0]\n",
    "veh = c._vehicles\n",
    "det = c._details\n",
    "n1 = sum([sum([data[v][d] for d in det]) for v in veh])\n",
    "n0 = len(veh) * len(det) - n1\n",
    "n0,n1"
   ]
  },
  {
   "cell_type": "code",
   "execution_count": 82,
   "metadata": {},
   "outputs": [
    {
     "data": {
      "text/plain": [
       "[\n",
       " Customer ([15], [4, 11], 1, 1) \n",
       " 1  0, \n",
       " Customer ([0, 17], [0], 2, 0) \n",
       " 1\n",
       " 1, \n",
       " Customer ([5, 16, 13, 2, 8, 7, 10, 6, 11], [5, 17, 3, 18, 6, 13, 15], 35, 28) \n",
       " 1  0  0  0  1  1  0\n",
       " 0  0  1  0  1  1  1\n",
       " 0  1  0  1  0  1  0\n",
       " 0  1  1  0  0  1  1\n",
       " 1  0  0  1  0  1  1\n",
       " 1  1  1  0  0  1  0\n",
       " 0  1  1  1  0  1  0\n",
       " 1  1  0  1  1  1  1\n",
       " 0  1  1  0  0  1  0, \n",
       " Customer ([1, 9, 12], [16, 12, 9, 1, 10, 14, 19], 15, 6) \n",
       " 1  1  1  1  0  1  1\n",
       " 0  1  1  0  1  1  0\n",
       " 1  1  1  1  1  0  0, \n",
       " Customer ([19, 18, 14, 4, 3], [7, 8, 2], 7, 8) \n",
       " 1  0  1\n",
       " 0  0  0\n",
       " 1  1  1\n",
       " 0  0  1\n",
       " 0  1  0]"
      ]
     },
     "execution_count": 82,
     "metadata": {},
     "output_type": "execute_result"
    }
   ],
   "source": [
    "best_sol"
   ]
  },
  {
   "cell_type": "code",
   "execution_count": 47,
   "metadata": {},
   "outputs": [
    {
     "data": {
      "text/plain": [
       "[\n",
       " Customer ([8, 6, 3, 16, 17, 14, 0, 5, 15], [15, 0, 8, 6, 5, 4, 13], 32, 31, 0.22535211267605634) \n",
       " 1  0  1  0  1  0  1\n",
       " 1  1  1  1  1  0  1\n",
       " 0  0  1  0  1  0  0\n",
       " 1  0  0  1  0  1  1\n",
       " 1  1  0  1  0  0  0\n",
       " 1  0  1  0  0  1  0\n",
       " 1  1  1  0  1  0  0\n",
       " 0  0  0  1  1  0  1\n",
       " 1  0  0  0  0  1  1, \n",
       " Customer ([12, 2, 7, 4, 9, 11, 1, 13, 10], [17, 19, 10, 12, 9, 16, 2, 3, 14, 1], 41, 49, 0.25625) \n",
       " 1  0  1  1  1  1  0  0  0  1\n",
       " 1  0  1  1  0  0  1  1  0  0\n",
       " 1  1  0  0  1  0  0  1  1  0\n",
       " 0  0  0  1  0  0  1  0  1  0\n",
       " 0  0  1  1  1  0  0  0  1  0\n",
       " 1  0  1  0  0  1  0  1  0  0\n",
       " 0  1  0  1  1  1  1  0  1  1\n",
       " 1  0  0  1  0  1  0  0  0  0\n",
       " 1  0  0  1  0  0  0  1  1  0, \n",
       " Customer ([18], [11], 0, 1, 0.0) \n",
       " 0, \n",
       " Customer ([19], [7, 18], 2, 0, 0.018018018018018018) \n",
       " 1  1]"
      ]
     },
     "execution_count": 47,
     "metadata": {},
     "output_type": "execute_result"
    }
   ],
   "source": [
    "best_sol"
   ]
  },
  {
   "cell_type": "code",
   "execution_count": 54,
   "metadata": {},
   "outputs": [
    {
     "name": "stdout",
     "output_type": "stream",
     "text": [
      "_ _ _ _ _ _ _ _ 6 _ _ _ 6 6 _ _ 6 _ _ _ _ _ _ _ _ _ _ _ 6 _ 6 _ 6 _ _ _ _ _ _ 6 _ \n",
      "_ _ _ _ _ _ _ _ 6 _ _ _ 6 6 _ _ 6 _ _ _ _ _ _ _ _ _ _ _ 6 _ 6 _ 6 _ _ _ _ _ _ 6 _ \n",
      "_ 3 _ _ _ _ _ _ _ _ _ 3 _ _ 3 3 _ _ _ _ _ _ _ _ _ _ _ _ _ _ _ _ _ 3 _ _ _ _ _ _ _ \n",
      "_ _ _ _ _ _ _ 5 _ _ 5 _ _ _ _ _ _ _ _ _ 5 _ _ _ 5 _ _ 5 _ _ _ _ _ _ _ _ _ _ _ _ _ \n",
      "_ _ _ _ _ _ _ _ _ 7 _ _ _ _ _ _ _ _ _ _ _ 7 7 _ _ _ _ _ _ _ _ _ _ _ 7 _ _ _ _ _ _ \n",
      "_ _ _ 1 1 _ _ _ _ _ _ _ _ _ _ _ _ 1 _ _ _ _ _ _ _ 1 1 _ _ 1 _ _ _ _ _ _ _ 1 _ _ _ \n",
      "_ _ _ _ _ _ _ 5 _ _ 5 _ _ _ _ _ _ _ _ _ 5 _ _ _ 5 _ _ 5 _ _ _ _ _ _ _ _ _ _ _ _ _ \n",
      "_ _ _ 1 1 _ _ _ _ _ _ _ _ _ _ _ _ 1 _ _ _ _ _ _ _ 1 1 _ _ 1 _ _ _ _ _ _ _ 1 _ _ _ \n",
      "_ _ _ _ _ _ _ _ 6 _ _ _ 6 6 _ _ 6 _ _ _ _ _ _ _ _ _ _ _ 6 _ 6 _ 6 _ _ _ _ _ _ 6 _ \n",
      "_ _ _ _ _ 4 _ _ _ _ _ _ _ _ _ _ _ _ _ 4 _ _ _ 4 _ _ _ _ _ _ _ _ _ _ _ _ _ _ _ _ _ \n",
      "_ _ _ _ _ _ _ _ _ 7 _ _ _ _ _ _ _ _ _ _ _ 7 7 _ _ _ _ _ _ _ _ _ _ _ 7 _ _ _ _ _ _ \n",
      "_ _ _ 1 1 _ _ _ _ _ _ _ _ _ _ _ _ 1 _ _ _ _ _ _ _ 1 1 _ _ 1 _ _ _ _ _ _ _ 1 _ _ _ \n",
      "_ 3 _ _ _ _ _ _ _ _ _ 3 _ _ 3 3 _ _ _ _ _ _ _ _ _ _ _ _ _ _ _ _ _ 3 _ _ _ _ _ _ _ \n",
      "_ _ _ _ _ _ _ 5 _ _ 5 _ _ _ _ _ _ _ _ _ 5 _ _ _ 5 _ _ 5 _ _ _ _ _ _ _ _ _ _ _ _ _ \n",
      "_ _ _ 1 1 _ _ _ _ _ _ _ _ _ _ _ _ 1 _ _ _ _ _ _ _ 1 1 _ _ 1 _ _ _ _ _ _ _ 1 _ _ _ \n",
      "_ _ _ _ _ _ _ _ _ _ _ _ _ _ _ _ _ _ 2 _ _ _ _ _ _ _ _ _ _ _ _ _ _ _ _ 2 2 _ 2 _ _ \n",
      "_ _ _ _ _ _ _ _ 6 _ _ _ 6 6 _ _ 6 _ _ _ _ _ _ _ _ _ _ _ 6 _ 6 _ 6 _ _ _ _ _ _ 6 _ \n",
      "_ _ _ 1 1 _ _ _ _ _ _ _ _ _ _ _ _ 1 _ _ _ _ _ _ _ 1 1 _ _ 1 _ _ _ _ _ _ _ 1 _ _ _ \n",
      "_ _ _ _ _ _ _ _ 6 _ _ _ 6 6 _ _ 6 _ _ _ _ _ _ _ _ _ _ _ 6 _ 6 _ 6 _ _ _ _ _ _ 6 _ \n",
      "_ 3 _ _ _ _ _ _ _ _ _ 3 _ _ 3 3 _ _ _ _ _ _ _ _ _ _ _ _ _ _ _ _ _ 3 _ _ _ _ _ _ _ \n",
      "8 _ 8 _ _ _ 8 _ _ _ _ _ _ _ _ _ _ _ _ _ _ _ _ _ _ _ _ _ _ _ _ 8 _ _ _ _ _ _ _ _ _ \n",
      "8 _ 8 _ _ _ 8 _ _ _ _ _ _ _ _ _ _ _ _ _ _ _ _ _ _ _ _ _ _ _ _ 8 _ _ _ _ _ _ _ _ _ \n",
      "8 _ 8 _ _ _ 8 _ _ _ _ _ _ _ _ _ _ _ _ _ _ _ _ _ _ _ _ _ _ _ _ 8 _ _ _ _ _ _ _ _ _ \n",
      "8 _ 8 _ _ _ 8 _ _ _ _ _ _ _ _ _ _ _ _ _ _ _ _ _ _ _ _ _ _ _ _ 8 _ _ _ _ _ _ _ _ _ \n",
      "_ _ _ _ _ _ _ _ _ _ _ _ _ _ _ _ _ _ _ _ _ _ _ _ _ _ _ _ _ _ _ _ _ _ _ _ _ _ _ _ _ \n"
     ]
    }
   ],
   "source": [
    "solution_matrix = [['_']*(M+1) for _ in range(N+1)]\n",
    "for i in range(len(solution)):\n",
    "    for v in solution[i]._vehicles:\n",
    "        for d in solution[i]._details:\n",
    "            solution_matrix[v][d] = i + 1\n",
    "print_matrix(solution_matrix)\n"
   ]
  },
  {
   "cell_type": "code",
   "execution_count": null,
   "metadata": {},
   "outputs": [],
   "source": []
  },
  {
   "cell_type": "code",
   "execution_count": null,
   "metadata": {},
   "outputs": [],
   "source": []
  },
  {
   "cell_type": "code",
   "execution_count": 37,
   "metadata": {},
   "outputs": [],
   "source": [
    "c = best_sol[0]"
   ]
  },
  {
   "cell_type": "code",
   "execution_count": 45,
   "metadata": {},
   "outputs": [
    {
     "data": {
      "text/plain": [
       "20"
      ]
     },
     "execution_count": 45,
     "metadata": {},
     "output_type": "execute_result"
    }
   ],
   "source": [
    "sum([sum(m) for m in c.matrix])"
   ]
  },
  {
   "cell_type": "code",
   "execution_count": 487,
   "metadata": {},
   "outputs": [],
   "source": [
    "BSOL = best_sol\n",
    "BSUM = best_sum"
   ]
  },
  {
   "cell_type": "code",
   "execution_count": 488,
   "metadata": {},
   "outputs": [
    {
     "data": {
      "text/plain": [
       "True"
      ]
     },
     "execution_count": 488,
     "metadata": {},
     "output_type": "execute_result"
    }
   ],
   "source": [
    "is_feasible(BSOL)"
   ]
  },
  {
   "cell_type": "code",
   "execution_count": 489,
   "metadata": {},
   "outputs": [
    {
     "data": {
      "text/plain": [
       "([1, 6, 0, 8, 4, 3, 7, 3, 4, 5, 0, 5, 4, 8, 2, 2, 6, 5, 2, 7, 1, 3, 4, 7],\n",
       " [1,\n",
       "  7,\n",
       "  4,\n",
       "  5,\n",
       "  3,\n",
       "  4,\n",
       "  6,\n",
       "  8,\n",
       "  1,\n",
       "  0,\n",
       "  8,\n",
       "  4,\n",
       "  6,\n",
       "  2,\n",
       "  0,\n",
       "  3,\n",
       "  1,\n",
       "  5,\n",
       "  1,\n",
       "  5,\n",
       "  8,\n",
       "  6,\n",
       "  0,\n",
       "  5,\n",
       "  7,\n",
       "  2,\n",
       "  2,\n",
       "  8,\n",
       "  6,\n",
       "  3,\n",
       "  6,\n",
       "  7,\n",
       "  1,\n",
       "  3,\n",
       "  4,\n",
       "  2,\n",
       "  2,\n",
       "  3,\n",
       "  3,\n",
       "  6])"
      ]
     },
     "execution_count": 489,
     "metadata": {},
     "output_type": "execute_result"
    }
   ],
   "source": [
    "get_output(BSOL)"
   ]
  },
  {
   "cell_type": "code",
   "execution_count": 478,
   "metadata": {},
   "outputs": [
    {
     "name": "stdout",
     "output_type": "stream",
     "text": [
      "[1, 0, 1, 2, 0, 1, 1, 2, 1, 1, 2, 0, 2, 2, 2, 1, 2, 2, 2, 2, 2, 1, 2, 1, 1, 2, 1, 1, 0, 1, 2, 1, 2, 0, 2, 0, 0]\n",
      "[2, 2, 2, 2, 2, 2, 2, 2, 2, 2, 2, 2, 2, 2, 2, 2, 2, 2, 2, 2, 2, 2, 2, 2, 2, 1, 1, 1, 1, 1, 1, 1, 0, 1, 1, 1, 1, 1, 1, 1, 2, 2, 2, 2, 2, 2, 2, 2, 2, 2, 2, 2, 2]\n",
      "37x53 0.6289532711953234\n",
      "\n"
     ]
    }
   ],
   "source": [
    "nice_view(BSOL, '24x40.sol')"
   ]
  },
  {
   "cell_type": "code",
   "execution_count": null,
   "metadata": {},
   "outputs": [],
   "source": []
  }
 ],
 "metadata": {
  "kernelspec": {
   "display_name": "Python 3",
   "language": "python",
   "name": "python3"
  },
  "language_info": {
   "codemirror_mode": {
    "name": "ipython",
    "version": 3
   },
   "file_extension": ".py",
   "mimetype": "text/x-python",
   "name": "python",
   "nbconvert_exporter": "python",
   "pygments_lexer": "ipython3",
   "version": "3.7.2"
  }
 },
 "nbformat": 4,
 "nbformat_minor": 2
}
