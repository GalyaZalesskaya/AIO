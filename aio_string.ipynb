{
 "cells": [
  {
   "cell_type": "markdown",
   "metadata": {},
   "source": [
    "# Лабораторная работа №2\n",
    "# Реализация алгоритмов поиска подстроки в строке\n",
    "## Выполнили: Залесская Галина, Елькина Варвара"
   ]
  },
  {
   "cell_type": "code",
   "execution_count": 6,
   "metadata": {},
   "outputs": [],
   "source": [
    "import numpy as np\n",
    "import pandas as pd\n",
    "from random import choice\n",
    "from sklearn import preprocessing"
   ]
  },
  {
   "cell_type": "markdown",
   "metadata": {},
   "source": [
    "В нашем расположении имеются короткий алфавит из 4 символов и длинный, состоящий из всех английских букв алфавита"
   ]
  },
  {
   "cell_type": "code",
   "execution_count": 9,
   "metadata": {},
   "outputs": [],
   "source": [
    "alphabet_sh = ['a','b','c','d']\n",
    "alphabet= [chr(i) for i in range(97,123)]"
   ]
  },
  {
   "cell_type": "markdown",
   "metadata": {},
   "source": [
    "# Наивный алгоритм"
   ]
  },
  {
   "cell_type": "markdown",
   "metadata": {},
   "source": [
    "Наивный алгоритм считается самым простым алгоримтом для поиска подстроки в строке. В качестве атомарной операции исполбзуется сравнение двух символов. "
   ]
  },
  {
   "cell_type": "code",
   "execution_count": 262,
   "metadata": {},
   "outputs": [],
   "source": [
    "def Naive(text, pattern, alphabet):\n",
    "    n = len(text)\n",
    "    m = len(pattern)\n",
    "    incl=[]\n",
    "    operations=0\n",
    "    for s in range(n-m+1):\n",
    "        i=0\n",
    "        while (i < m):\n",
    "            operations+=1\n",
    "            if (pattern[i]!=text[s+i]):\n",
    "                break\n",
    "            i+=1\n",
    "        if (i==m):\n",
    "            incl.append(s)   \n",
    "    return (incl,operations)"
   ]
  },
  {
   "cell_type": "markdown",
   "metadata": {},
   "source": [
    "# Rabin-Karp algorithm"
   ]
  },
  {
   "cell_type": "markdown",
   "metadata": {},
   "source": [
    "В качестве атомарной операции были использованы сравнение символов, создание нового хэша и сравнение хэшей. Для перевода листа из символов в лист из чисел (маленьких чисел, не превосходящих мощность используемого алфавита) была использована функция препроцессинга LabelEncoder. Однако сложность ее работы не суммировалась со сложностью алгоритма, чтобы не создать искажение при сравнении алгоритма с остальными."
   ]
  },
  {
   "cell_type": "code",
   "execution_count": 263,
   "metadata": {},
   "outputs": [],
   "source": [
    "def RK(text, pattern,alphabet):\n",
    "    n = len(text)\n",
    "    m = len(pattern)\n",
    "    text = list(text)\n",
    "    pattern = list(pattern)\n",
    "    incl=[]\n",
    "    operations=0\n",
    "    d=len(alphabet)\n",
    "    p=0\n",
    "    t=0\n",
    "    q=1013\n",
    "    \n",
    "    le = preprocessing.LabelEncoder()\n",
    "    le.fit(alphabet)\n",
    "    text = le.transform(text)\n",
    "    pattern = le.transform(pattern)\n",
    "    \n",
    "    for i in range(m):\n",
    "        p = (d*p + pattern[i]) % q\n",
    "        t = (d*t + text[i]) % q\n",
    "    \n",
    "    for i in range(n-m+1):\n",
    "        operations+=1 #hash comparison\n",
    "        if (p == t):\n",
    "            j=0\n",
    "            while (j < m):\n",
    "                operations+=1 #char comparison\n",
    "                if (pattern[j]!=text[i+j]):\n",
    "                    break\n",
    "                j+=1\n",
    "            if (j==m):\n",
    "                incl.append(i)\n",
    "        operations+=1 #new hash\n",
    "        t = ((t - text[i] * (d**(m-1)))*d + text[(i+m)%n]) % q\n",
    "            \n",
    "    return incl,operations "
   ]
  },
  {
   "cell_type": "markdown",
   "metadata": {},
   "source": [
    "# Boyer-Moore-Horspool algoritm"
   ]
  },
  {
   "cell_type": "markdown",
   "metadata": {},
   "source": [
    "Для алгоритма BMH суммируются все операции в препроцессинге, а так же каждый случай сравнения символов. "
   ]
  },
  {
   "cell_type": "code",
   "execution_count": 265,
   "metadata": {},
   "outputs": [],
   "source": [
    "def BMH (text, pattern, alphabet):    \n",
    "    n = len(text)\n",
    "    m = len(pattern)\n",
    "    text = list(text)\n",
    "    pattern = list(pattern)\n",
    "    incl=[]\n",
    "    d=len(alphabet)\n",
    "    operations=0\n",
    "    table = [m for i in range (d)]\n",
    "    \n",
    "    le = preprocessing.LabelEncoder()\n",
    "    le.fit(alphabet)\n",
    "    pattern = le.transform(pattern)\n",
    "    text = le.transform(text)\n",
    "   \n",
    "    for i in range(m-1):\n",
    "        operations+=1 #preprocessing\n",
    "        table[pattern[i]] = m-1-i #количество безопасно пропускаемых символов\n",
    "\n",
    "    skip = 0\n",
    "    while (n - skip >= m):\n",
    "        i = m - 1 \n",
    "        while (text[skip+i] == pattern[i]):\n",
    "            operations+=1 # char comparison\n",
    "            if (i==0):               \n",
    "                incl.append(skip)\n",
    "                break;\n",
    "            i-=1\n",
    "        skip = skip + table[text[skip+m-1]]\n",
    "    return incl, operations"
   ]
  },
  {
   "cell_type": "markdown",
   "metadata": {},
   "source": [
    "# Knuth-Morris-Pratt algorithm"
   ]
  },
  {
   "cell_type": "markdown",
   "metadata": {},
   "source": [
    "Сложность алгоритма суммируется из двойного прохождения по тексту во время формирования массива эвристики префикса. А так же сравнения символов во время работы основного алгоритма."
   ]
  },
  {
   "cell_type": "code",
   "execution_count": 266,
   "metadata": {},
   "outputs": [],
   "source": [
    "def KMP(text, pattern, alphabet):\n",
    "    n = len(text)\n",
    "    m = len(pattern)\n",
    "    large_text = pattern +'$' + text\n",
    "    \n",
    "    incl=[]\n",
    "    d=len(alphabet)\n",
    "    operations=0\n",
    "    table = [m for i in range (d)]\n",
    "    \n",
    "#prefix fun    \n",
    "    prefix = [0]*(m+n+1)\n",
    "    k = 0\n",
    "    for i in range(1,m+n+1):\n",
    "        k = prefix[i-1]\n",
    "        operations+=1\n",
    "        while ((k>0) and (large_text[k]!=large_text[i])):\n",
    "            k=prefix[k-1]\n",
    "        operations+=1\n",
    "        if (large_text[k]==large_text[i]):\n",
    "            k+=1\n",
    "        prefix[i]=k\n",
    "\n",
    "    for i in range(m+1, m+n+1):\n",
    "        if (prefix[i] == m):\n",
    "            operations+=1\n",
    "            incl.append(i-2*m)\n",
    "    return (incl, operations)"
   ]
  },
  {
   "cell_type": "markdown",
   "metadata": {},
   "source": [
    "# Блок для сравнения алгоритмов"
   ]
  },
  {
   "cell_type": "code",
   "execution_count": 258,
   "metadata": {},
   "outputs": [],
   "source": [
    "def text_generator(alpha, n):   #текст длины n\n",
    "    return (''.join([choice(alpha) for x in range(n)]))"
   ]
  },
  {
   "cell_type": "code",
   "execution_count": 81,
   "metadata": {},
   "outputs": [],
   "source": [
    "def textset_generator(alpha, n): #датасет из тысячи текстов длины п\n",
    "    set = []\n",
    "    for i in range (1000):\n",
    "        set.append(text_generator(alpha, n))\n",
    "    return set"
   ]
  },
  {
   "cell_type": "code",
   "execution_count": 82,
   "metadata": {},
   "outputs": [],
   "source": [
    "def info_computing(algorythm, set, pattern, alphabet): \n",
    "    #необходимая информация о количестве операций для каждого алгоритма при работе с текстами из set\n",
    "    aver=max=0\n",
    "    n = np.shape(set)[0]\n",
    "    min = n**2\n",
    "    for text in set:\n",
    "        value = algorythm(text, pattern, alphabet)[1]\n",
    "        aver+=value\n",
    "        if (value>max):\n",
    "            max=value\n",
    "        if (value<min):\n",
    "            min=value\n",
    "    aver = aver / n\n",
    "    return max, aver, min\n",
    "        "
   ]
  },
  {
   "cell_type": "code",
   "execution_count": 93,
   "metadata": {},
   "outputs": [],
   "source": [
    "import matplotlib.pyplot as plt\n",
    "import pandas as pd"
   ]
  },
  {
   "cell_type": "code",
   "execution_count": 272,
   "metadata": {},
   "outputs": [],
   "source": [
    "#паттерн, который мы ищем в текстах. Для удобства один для всех\n",
    "pat = 'abc'"
   ]
  },
  {
   "cell_type": "code",
   "execution_count": 267,
   "metadata": {},
   "outputs": [],
   "source": [
    "#красивое и наглядное представление таблицой\n",
    "def table_information(alphabet):\n",
    "    table = pd.DataFrame()\n",
    "    algorythms = [Naive, RK, BMH, KMP]\n",
    "    lenght = [10,100,1000,10000]\n",
    "    for alg in algorythms:\n",
    "        for l in lenght:\n",
    "            line = np.asarray(info_computing(alg, textset_generator(alphabet,l), pat, alphabet))\n",
    "            line = pd.DataFrame(data = line, index=['max','average', 'min'], columns = [alg.__name__+' : '+str(l)])\n",
    "            table=pd.concat([table,line], axis=1)\n",
    "    return table.T"
   ]
  },
  {
   "cell_type": "code",
   "execution_count": 268,
   "metadata": {},
   "outputs": [
    {
     "data": {
      "text/html": [
       "<div>\n",
       "<style scoped>\n",
       "    .dataframe tbody tr th:only-of-type {\n",
       "        vertical-align: middle;\n",
       "    }\n",
       "\n",
       "    .dataframe tbody tr th {\n",
       "        vertical-align: top;\n",
       "    }\n",
       "\n",
       "    .dataframe thead th {\n",
       "        text-align: right;\n",
       "    }\n",
       "</style>\n",
       "<table border=\"1\" class=\"dataframe\">\n",
       "  <thead>\n",
       "    <tr style=\"text-align: right;\">\n",
       "      <th></th>\n",
       "      <th>max</th>\n",
       "      <th>average</th>\n",
       "      <th>min</th>\n",
       "    </tr>\n",
       "  </thead>\n",
       "  <tbody>\n",
       "    <tr>\n",
       "      <th>Naive : 10</th>\n",
       "      <td>16.0</td>\n",
       "      <td>10.406</td>\n",
       "      <td>8.0</td>\n",
       "    </tr>\n",
       "    <tr>\n",
       "      <th>Naive : 100</th>\n",
       "      <td>148.0</td>\n",
       "      <td>128.489</td>\n",
       "      <td>110.0</td>\n",
       "    </tr>\n",
       "    <tr>\n",
       "      <th>Naive : 1000</th>\n",
       "      <td>1363.0</td>\n",
       "      <td>1309.319</td>\n",
       "      <td>1259.0</td>\n",
       "    </tr>\n",
       "    <tr>\n",
       "      <th>Naive : 10000</th>\n",
       "      <td>13307.0</td>\n",
       "      <td>13123.002</td>\n",
       "      <td>12950.0</td>\n",
       "    </tr>\n",
       "    <tr>\n",
       "      <th>RK : 10</th>\n",
       "      <td>22.0</td>\n",
       "      <td>16.414</td>\n",
       "      <td>16.0</td>\n",
       "    </tr>\n",
       "    <tr>\n",
       "      <th>RK : 100</th>\n",
       "      <td>214.0</td>\n",
       "      <td>200.440</td>\n",
       "      <td>196.0</td>\n",
       "    </tr>\n",
       "    <tr>\n",
       "      <th>RK : 1000</th>\n",
       "      <td>2086.0</td>\n",
       "      <td>2042.776</td>\n",
       "      <td>2014.0</td>\n",
       "    </tr>\n",
       "    <tr>\n",
       "      <th>RK : 10000</th>\n",
       "      <td>20569.0</td>\n",
       "      <td>20465.575</td>\n",
       "      <td>20356.0</td>\n",
       "    </tr>\n",
       "    <tr>\n",
       "      <th>BMH : 10</th>\n",
       "      <td>9.0</td>\n",
       "      <td>3.503</td>\n",
       "      <td>2.0</td>\n",
       "    </tr>\n",
       "    <tr>\n",
       "      <th>BMH : 100</th>\n",
       "      <td>36.0</td>\n",
       "      <td>19.165</td>\n",
       "      <td>7.0</td>\n",
       "    </tr>\n",
       "    <tr>\n",
       "      <th>BMH : 1000</th>\n",
       "      <td>224.0</td>\n",
       "      <td>177.659</td>\n",
       "      <td>131.0</td>\n",
       "    </tr>\n",
       "    <tr>\n",
       "      <th>BMH : 10000</th>\n",
       "      <td>1883.0</td>\n",
       "      <td>1753.102</td>\n",
       "      <td>1583.0</td>\n",
       "    </tr>\n",
       "    <tr>\n",
       "      <th>KMP : 10</th>\n",
       "      <td>28.0</td>\n",
       "      <td>26.123</td>\n",
       "      <td>26.0</td>\n",
       "    </tr>\n",
       "    <tr>\n",
       "      <th>KMP : 100</th>\n",
       "      <td>212.0</td>\n",
       "      <td>207.527</td>\n",
       "      <td>206.0</td>\n",
       "    </tr>\n",
       "    <tr>\n",
       "      <th>KMP : 1000</th>\n",
       "      <td>2036.0</td>\n",
       "      <td>2021.574</td>\n",
       "      <td>2009.0</td>\n",
       "    </tr>\n",
       "    <tr>\n",
       "      <th>KMP : 10000</th>\n",
       "      <td>20201.0</td>\n",
       "      <td>20162.556</td>\n",
       "      <td>20115.0</td>\n",
       "    </tr>\n",
       "  </tbody>\n",
       "</table>\n",
       "</div>"
      ],
      "text/plain": [
       "                   max    average      min\n",
       "Naive : 10        16.0     10.406      8.0\n",
       "Naive : 100      148.0    128.489    110.0\n",
       "Naive : 1000    1363.0   1309.319   1259.0\n",
       "Naive : 10000  13307.0  13123.002  12950.0\n",
       "RK : 10           22.0     16.414     16.0\n",
       "RK : 100         214.0    200.440    196.0\n",
       "RK : 1000       2086.0   2042.776   2014.0\n",
       "RK : 10000     20569.0  20465.575  20356.0\n",
       "BMH : 10           9.0      3.503      2.0\n",
       "BMH : 100         36.0     19.165      7.0\n",
       "BMH : 1000       224.0    177.659    131.0\n",
       "BMH : 10000     1883.0   1753.102   1583.0\n",
       "KMP : 10          28.0     26.123     26.0\n",
       "KMP : 100        212.0    207.527    206.0\n",
       "KMP : 1000      2036.0   2021.574   2009.0\n",
       "KMP : 10000    20201.0  20162.556  20115.0"
      ]
     },
     "execution_count": 268,
     "metadata": {},
     "output_type": "execute_result"
    }
   ],
   "source": [
    "# работа алгоритмов на текстах длины 10,100,1000,10000 на маленьком алфавите из 4 символов\n",
    "result_sh= table_information(alphabet_sh)\n",
    "result_sh"
   ]
  },
  {
   "cell_type": "code",
   "execution_count": 269,
   "metadata": {},
   "outputs": [
    {
     "data": {
      "text/html": [
       "<div>\n",
       "<style scoped>\n",
       "    .dataframe tbody tr th:only-of-type {\n",
       "        vertical-align: middle;\n",
       "    }\n",
       "\n",
       "    .dataframe tbody tr th {\n",
       "        vertical-align: top;\n",
       "    }\n",
       "\n",
       "    .dataframe thead th {\n",
       "        text-align: right;\n",
       "    }\n",
       "</style>\n",
       "<table border=\"1\" class=\"dataframe\">\n",
       "  <thead>\n",
       "    <tr style=\"text-align: right;\">\n",
       "      <th></th>\n",
       "      <th>max</th>\n",
       "      <th>average</th>\n",
       "      <th>min</th>\n",
       "    </tr>\n",
       "  </thead>\n",
       "  <tbody>\n",
       "    <tr>\n",
       "      <th>Naive : 10</th>\n",
       "      <td>11.0</td>\n",
       "      <td>8.315</td>\n",
       "      <td>8.0</td>\n",
       "    </tr>\n",
       "    <tr>\n",
       "      <th>Naive : 100</th>\n",
       "      <td>110.0</td>\n",
       "      <td>101.872</td>\n",
       "      <td>98.0</td>\n",
       "    </tr>\n",
       "    <tr>\n",
       "      <th>Naive : 1000</th>\n",
       "      <td>1057.0</td>\n",
       "      <td>1037.836</td>\n",
       "      <td>1020.0</td>\n",
       "    </tr>\n",
       "    <tr>\n",
       "      <th>Naive : 10000</th>\n",
       "      <td>10476.0</td>\n",
       "      <td>10397.450</td>\n",
       "      <td>10327.0</td>\n",
       "    </tr>\n",
       "    <tr>\n",
       "      <th>RK : 10</th>\n",
       "      <td>17.0</td>\n",
       "      <td>16.006</td>\n",
       "      <td>16.0</td>\n",
       "    </tr>\n",
       "    <tr>\n",
       "      <th>RK : 100</th>\n",
       "      <td>199.0</td>\n",
       "      <td>196.111</td>\n",
       "      <td>196.0</td>\n",
       "    </tr>\n",
       "    <tr>\n",
       "      <th>RK : 1000</th>\n",
       "      <td>2003.0</td>\n",
       "      <td>1997.151</td>\n",
       "      <td>1996.0</td>\n",
       "    </tr>\n",
       "    <tr>\n",
       "      <th>RK : 10000</th>\n",
       "      <td>20025.0</td>\n",
       "      <td>20007.412</td>\n",
       "      <td>19997.0</td>\n",
       "    </tr>\n",
       "    <tr>\n",
       "      <th>BMH : 10</th>\n",
       "      <td>4.0</td>\n",
       "      <td>2.146</td>\n",
       "      <td>2.0</td>\n",
       "    </tr>\n",
       "    <tr>\n",
       "      <th>BMH : 100</th>\n",
       "      <td>8.0</td>\n",
       "      <td>3.427</td>\n",
       "      <td>2.0</td>\n",
       "    </tr>\n",
       "    <tr>\n",
       "      <th>BMH : 1000</th>\n",
       "      <td>32.0</td>\n",
       "      <td>16.407</td>\n",
       "      <td>6.0</td>\n",
       "    </tr>\n",
       "    <tr>\n",
       "      <th>BMH : 10000</th>\n",
       "      <td>191.0</td>\n",
       "      <td>146.120</td>\n",
       "      <td>103.0</td>\n",
       "    </tr>\n",
       "    <tr>\n",
       "      <th>KMP : 10</th>\n",
       "      <td>27.0</td>\n",
       "      <td>26.001</td>\n",
       "      <td>26.0</td>\n",
       "    </tr>\n",
       "    <tr>\n",
       "      <th>KMP : 100</th>\n",
       "      <td>207.0</td>\n",
       "      <td>206.005</td>\n",
       "      <td>206.0</td>\n",
       "    </tr>\n",
       "    <tr>\n",
       "      <th>KMP : 1000</th>\n",
       "      <td>2007.0</td>\n",
       "      <td>2006.048</td>\n",
       "      <td>2006.0</td>\n",
       "    </tr>\n",
       "    <tr>\n",
       "      <th>KMP : 10000</th>\n",
       "      <td>20012.0</td>\n",
       "      <td>20006.559</td>\n",
       "      <td>20006.0</td>\n",
       "    </tr>\n",
       "  </tbody>\n",
       "</table>\n",
       "</div>"
      ],
      "text/plain": [
       "                   max    average      min\n",
       "Naive : 10        11.0      8.315      8.0\n",
       "Naive : 100      110.0    101.872     98.0\n",
       "Naive : 1000    1057.0   1037.836   1020.0\n",
       "Naive : 10000  10476.0  10397.450  10327.0\n",
       "RK : 10           17.0     16.006     16.0\n",
       "RK : 100         199.0    196.111    196.0\n",
       "RK : 1000       2003.0   1997.151   1996.0\n",
       "RK : 10000     20025.0  20007.412  19997.0\n",
       "BMH : 10           4.0      2.146      2.0\n",
       "BMH : 100          8.0      3.427      2.0\n",
       "BMH : 1000        32.0     16.407      6.0\n",
       "BMH : 10000      191.0    146.120    103.0\n",
       "KMP : 10          27.0     26.001     26.0\n",
       "KMP : 100        207.0    206.005    206.0\n",
       "KMP : 1000      2007.0   2006.048   2006.0\n",
       "KMP : 10000    20012.0  20006.559  20006.0"
      ]
     },
     "execution_count": 269,
     "metadata": {},
     "output_type": "execute_result"
    }
   ],
   "source": [
    "# работа алгоритмов на текстах длины 10,100,1000,10000 на обычном английском алфавите\n",
    "result = table_information(alphabet)\n",
    "result"
   ]
  },
  {
   "cell_type": "code",
   "execution_count": 275,
   "metadata": {},
   "outputs": [],
   "source": [
    "# давайте нарисуем количество операций для каждого алгоритма на тестах разной длины при маленьком и большом алфавитах\n",
    "def graph_info(result):\n",
    "    algorythms = [Naive, RK, BMH, KMP]\n",
    "    lenght = [10,100,1000,10000]\n",
    "    diap = np.shape(lenght)[0] \n",
    "    for i in range(0, np.shape(algorythms)[0]):\n",
    "        y = result_sh['average'].values[i*diap:(i+1)*diap] #маленький алфавит\n",
    "        plt.plot(lenght, y)\n",
    "        \n",
    "        y = result['average'].values[i*diap:(i+1)*diap] #обычный алфавит\n",
    "        plt.plot(lenght, y)\n",
    "        \n",
    "        plt.yticks(y)\n",
    "        plt.title(algorythms[i].__name__) #название представленного алгоритма\n",
    "        plt.xscale('log') \n",
    "        plt.show()\n",
    "        \n",
    "#блок для сравнения работы всех 4 алгоритмов на маленьком алфавите       \n",
    "    for i in range(0, np.shape(algorythms)[0]):\n",
    "        y = result_sh['average'].values[i*diap:(i+1)*diap]\n",
    "        plt.plot(lenght, y)\n",
    "    \n",
    "    plt.legend([algorythms[i].__name__ for i in range(0,4)])\n",
    "    plt.yticks(y)\n",
    "    plt.title(\"Comparison of algorythms\")\n",
    "    plt.xscale('log') \n",
    "    plt.show()"
   ]
  },
  {
   "cell_type": "code",
   "execution_count": 276,
   "metadata": {},
   "outputs": [
    {
     "data": {
      "image/png": "[encoded data removed]",
      "text/plain": [
       "<Figure size 432x288 with 1 Axes>"
      ]
     },
     "metadata": {
      "needs_background": "light"
     },
     "output_type": "display_data"
    },
    {
     "data": {
      "image/png": "[encoded data removed]",
      "text/plain": [
       "<Figure size 432x288 with 1 Axes>"
      ]
     },
     "metadata": {
      "needs_background": "light"
     },
     "output_type": "display_data"
    },
    {
     "data": {
      "image/png": "[encoded data removed]",
      "text/plain": [
       "<Figure size 432x288 with 1 Axes>"
      ]
     },
     "metadata": {
      "needs_background": "light"
     },
     "output_type": "display_data"
    },
    {
     "data": {
      "image/png": "[encoded data removed]",
      "text/plain": [
       "<Figure size 432x288 with 1 Axes>"
      ]
     },
     "metadata": {
      "needs_background": "light"
     },
     "output_type": "display_data"
    },
    {
     "data": {
      "image/png": "[encoded data removed]",
      "text/plain": [
       "<Figure size 432x288 with 1 Axes>"
      ]
     },
     "metadata": {
      "needs_background": "light"
     },
     "output_type": "display_data"
    }
   ],
   "source": [
    "graph_info(result)"
   ]
  },
  {
   "cell_type": "markdown",
   "metadata": {},
   "source": [
    "Как можно заметить, не у всех алгоритмов увеличение длины алфавита ведет к увеличению числа операций. У RK, BMH эти значения почти совпадает, что связано со спецификой алгоритма, а так же с тем, что искомый паттерн не изменяется при изменении алфавита.\n",
    "\n",
    "Диаграмма сравнения алгоритмов обманчива, так как для каждого мы брали разные атомарные операции исходя из логики алгоритмов (где-то добавлялось хэширование, где-то препроцессинг - все это увеличивает число операций, но не говорит о низкой эффективности алгоритма). Так, например, судя по диаграмме, алгоритм BMH является самым эффективным, а второе место занимает наивный алгоритм. Если первое не вызывает вопросов, то второе довольно сомнительно.\n",
    "\n",
    "Также из таблиц и графиков можно заметить, что число операций растет линейно, то есть увеличение длины текста на порядок (в 10 раз) так же увеличивает и число операций (в 10 раз)."
   ]
  },
  {
   "cell_type": "markdown",
   "metadata": {},
   "source": []
  }
 ],
 "metadata": {
  "kernelspec": {
   "display_name": "Python 3",
   "language": "python",
   "name": "python3"
  },
  "language_info": {
   "codemirror_mode": {
    "name": "ipython",
    "version": 3
   },
   "file_extension": ".py",
   "mimetype": "text/x-python",
   "name": "python",
   "nbconvert_exporter": "python",
   "pygments_lexer": "ipython3",
   "version": "3.7.1"
  }
 },
 "nbformat": 4,
 "nbformat_minor": 2
}
